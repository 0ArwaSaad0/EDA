{
 "cells": [
  {
   "cell_type": "code",
   "execution_count": 1,
   "id": "f72b0671",
   "metadata": {},
   "outputs": [],
   "source": [
    "import numpy as np\n",
    "import pandas as pd\n",
    "import matplotlib.pyplot as plt"
   ]
  },
  {
   "cell_type": "markdown",
   "id": "fdc11b8a",
   "metadata": {},
   "source": [
    "# Read Data"
   ]
  },
  {
   "cell_type": "code",
   "execution_count": 2,
   "id": "9a2fd606",
   "metadata": {},
   "outputs": [],
   "source": [
    "df=pd.read_csv('International_Report_Departures.csv')"
   ]
  },
  {
   "cell_type": "code",
   "execution_count": 3,
   "id": "c7d55bf7",
   "metadata": {},
   "outputs": [
    {
     "data": {
      "text/html": [
       "<div>\n",
       "<style scoped>\n",
       "    .dataframe tbody tr th:only-of-type {\n",
       "        vertical-align: middle;\n",
       "    }\n",
       "\n",
       "    .dataframe tbody tr th {\n",
       "        vertical-align: top;\n",
       "    }\n",
       "\n",
       "    .dataframe thead th {\n",
       "        text-align: right;\n",
       "    }\n",
       "</style>\n",
       "<table border=\"1\" class=\"dataframe\">\n",
       "  <thead>\n",
       "    <tr style=\"text-align: right;\">\n",
       "      <th></th>\n",
       "      <th>data_dte</th>\n",
       "      <th>Year</th>\n",
       "      <th>Month</th>\n",
       "      <th>usg_apt_id</th>\n",
       "      <th>usg_apt</th>\n",
       "      <th>usg_wac</th>\n",
       "      <th>fg_apt_id</th>\n",
       "      <th>fg_apt</th>\n",
       "      <th>fg_wac</th>\n",
       "      <th>airlineid</th>\n",
       "      <th>carrier</th>\n",
       "      <th>carriergroup</th>\n",
       "      <th>type</th>\n",
       "      <th>Scheduled</th>\n",
       "      <th>Charter</th>\n",
       "      <th>Total</th>\n",
       "    </tr>\n",
       "  </thead>\n",
       "  <tbody>\n",
       "    <tr>\n",
       "      <th>0</th>\n",
       "      <td>05/01/2006</td>\n",
       "      <td>2006</td>\n",
       "      <td>5</td>\n",
       "      <td>12016</td>\n",
       "      <td>GUM</td>\n",
       "      <td>5</td>\n",
       "      <td>13162</td>\n",
       "      <td>MAJ</td>\n",
       "      <td>844</td>\n",
       "      <td>20177</td>\n",
       "      <td>PFQ</td>\n",
       "      <td>1</td>\n",
       "      <td>Departures</td>\n",
       "      <td>0</td>\n",
       "      <td>10</td>\n",
       "      <td>10</td>\n",
       "    </tr>\n",
       "    <tr>\n",
       "      <th>1</th>\n",
       "      <td>05/01/2003</td>\n",
       "      <td>2003</td>\n",
       "      <td>5</td>\n",
       "      <td>10299</td>\n",
       "      <td>ANC</td>\n",
       "      <td>1</td>\n",
       "      <td>13856</td>\n",
       "      <td>OKO</td>\n",
       "      <td>736</td>\n",
       "      <td>20007</td>\n",
       "      <td>5Y</td>\n",
       "      <td>1</td>\n",
       "      <td>Departures</td>\n",
       "      <td>0</td>\n",
       "      <td>15</td>\n",
       "      <td>15</td>\n",
       "    </tr>\n",
       "    <tr>\n",
       "      <th>2</th>\n",
       "      <td>03/01/2007</td>\n",
       "      <td>2007</td>\n",
       "      <td>3</td>\n",
       "      <td>10721</td>\n",
       "      <td>BOS</td>\n",
       "      <td>13</td>\n",
       "      <td>12651</td>\n",
       "      <td>KEF</td>\n",
       "      <td>439</td>\n",
       "      <td>20402</td>\n",
       "      <td>GL</td>\n",
       "      <td>1</td>\n",
       "      <td>Departures</td>\n",
       "      <td>0</td>\n",
       "      <td>1</td>\n",
       "      <td>1</td>\n",
       "    </tr>\n",
       "    <tr>\n",
       "      <th>3</th>\n",
       "      <td>12/01/2004</td>\n",
       "      <td>2004</td>\n",
       "      <td>12</td>\n",
       "      <td>11259</td>\n",
       "      <td>DAL</td>\n",
       "      <td>74</td>\n",
       "      <td>16271</td>\n",
       "      <td>YYZ</td>\n",
       "      <td>936</td>\n",
       "      <td>20201</td>\n",
       "      <td>AMQ</td>\n",
       "      <td>1</td>\n",
       "      <td>Departures</td>\n",
       "      <td>0</td>\n",
       "      <td>1</td>\n",
       "      <td>1</td>\n",
       "    </tr>\n",
       "    <tr>\n",
       "      <th>4</th>\n",
       "      <td>05/01/2009</td>\n",
       "      <td>2009</td>\n",
       "      <td>5</td>\n",
       "      <td>13303</td>\n",
       "      <td>MIA</td>\n",
       "      <td>33</td>\n",
       "      <td>11075</td>\n",
       "      <td>CMW</td>\n",
       "      <td>219</td>\n",
       "      <td>21323</td>\n",
       "      <td>5L</td>\n",
       "      <td>0</td>\n",
       "      <td>Departures</td>\n",
       "      <td>0</td>\n",
       "      <td>20</td>\n",
       "      <td>20</td>\n",
       "    </tr>\n",
       "    <tr>\n",
       "      <th>5</th>\n",
       "      <td>10/01/2007</td>\n",
       "      <td>2007</td>\n",
       "      <td>10</td>\n",
       "      <td>14761</td>\n",
       "      <td>SFB</td>\n",
       "      <td>33</td>\n",
       "      <td>11928</td>\n",
       "      <td>GLA</td>\n",
       "      <td>493</td>\n",
       "      <td>20444</td>\n",
       "      <td>JN</td>\n",
       "      <td>0</td>\n",
       "      <td>Departures</td>\n",
       "      <td>0</td>\n",
       "      <td>8</td>\n",
       "      <td>8</td>\n",
       "    </tr>\n",
       "    <tr>\n",
       "      <th>6</th>\n",
       "      <td>02/01/2002</td>\n",
       "      <td>2002</td>\n",
       "      <td>2</td>\n",
       "      <td>14100</td>\n",
       "      <td>PHL</td>\n",
       "      <td>23</td>\n",
       "      <td>11032</td>\n",
       "      <td>CUN</td>\n",
       "      <td>148</td>\n",
       "      <td>20402</td>\n",
       "      <td>MMQ</td>\n",
       "      <td>1</td>\n",
       "      <td>Departures</td>\n",
       "      <td>0</td>\n",
       "      <td>1</td>\n",
       "      <td>1</td>\n",
       "    </tr>\n",
       "    <tr>\n",
       "      <th>7</th>\n",
       "      <td>02/01/2008</td>\n",
       "      <td>2008</td>\n",
       "      <td>2</td>\n",
       "      <td>16091</td>\n",
       "      <td>YIP</td>\n",
       "      <td>43</td>\n",
       "      <td>16166</td>\n",
       "      <td>YQG</td>\n",
       "      <td>936</td>\n",
       "      <td>20201</td>\n",
       "      <td>AMQ</td>\n",
       "      <td>1</td>\n",
       "      <td>Departures</td>\n",
       "      <td>0</td>\n",
       "      <td>3</td>\n",
       "      <td>3</td>\n",
       "    </tr>\n",
       "    <tr>\n",
       "      <th>8</th>\n",
       "      <td>11/01/2001</td>\n",
       "      <td>2001</td>\n",
       "      <td>11</td>\n",
       "      <td>13930</td>\n",
       "      <td>ORD</td>\n",
       "      <td>41</td>\n",
       "      <td>16042</td>\n",
       "      <td>YEG</td>\n",
       "      <td>916</td>\n",
       "      <td>19531</td>\n",
       "      <td>AC</td>\n",
       "      <td>0</td>\n",
       "      <td>Departures</td>\n",
       "      <td>0</td>\n",
       "      <td>1</td>\n",
       "      <td>1</td>\n",
       "    </tr>\n",
       "    <tr>\n",
       "      <th>9</th>\n",
       "      <td>07/01/2003</td>\n",
       "      <td>2003</td>\n",
       "      <td>7</td>\n",
       "      <td>13198</td>\n",
       "      <td>MCI</td>\n",
       "      <td>64</td>\n",
       "      <td>13514</td>\n",
       "      <td>MTY</td>\n",
       "      <td>148</td>\n",
       "      <td>20201</td>\n",
       "      <td>AMQ</td>\n",
       "      <td>1</td>\n",
       "      <td>Departures</td>\n",
       "      <td>0</td>\n",
       "      <td>1</td>\n",
       "      <td>1</td>\n",
       "    </tr>\n",
       "  </tbody>\n",
       "</table>\n",
       "</div>"
      ],
      "text/plain": [
       "     data_dte  Year  Month  usg_apt_id usg_apt  usg_wac  fg_apt_id fg_apt  \\\n",
       "0  05/01/2006  2006      5       12016     GUM        5      13162    MAJ   \n",
       "1  05/01/2003  2003      5       10299     ANC        1      13856    OKO   \n",
       "2  03/01/2007  2007      3       10721     BOS       13      12651    KEF   \n",
       "3  12/01/2004  2004     12       11259     DAL       74      16271    YYZ   \n",
       "4  05/01/2009  2009      5       13303     MIA       33      11075    CMW   \n",
       "5  10/01/2007  2007     10       14761     SFB       33      11928    GLA   \n",
       "6  02/01/2002  2002      2       14100     PHL       23      11032    CUN   \n",
       "7  02/01/2008  2008      2       16091     YIP       43      16166    YQG   \n",
       "8  11/01/2001  2001     11       13930     ORD       41      16042    YEG   \n",
       "9  07/01/2003  2003      7       13198     MCI       64      13514    MTY   \n",
       "\n",
       "   fg_wac  airlineid carrier  carriergroup        type  Scheduled  Charter  \\\n",
       "0     844      20177     PFQ             1  Departures          0       10   \n",
       "1     736      20007      5Y             1  Departures          0       15   \n",
       "2     439      20402      GL             1  Departures          0        1   \n",
       "3     936      20201     AMQ             1  Departures          0        1   \n",
       "4     219      21323      5L             0  Departures          0       20   \n",
       "5     493      20444      JN             0  Departures          0        8   \n",
       "6     148      20402     MMQ             1  Departures          0        1   \n",
       "7     936      20201     AMQ             1  Departures          0        3   \n",
       "8     916      19531      AC             0  Departures          0        1   \n",
       "9     148      20201     AMQ             1  Departures          0        1   \n",
       "\n",
       "   Total  \n",
       "0     10  \n",
       "1     15  \n",
       "2      1  \n",
       "3      1  \n",
       "4     20  \n",
       "5      8  \n",
       "6      1  \n",
       "7      3  \n",
       "8      1  \n",
       "9      1  "
      ]
     },
     "execution_count": 3,
     "metadata": {},
     "output_type": "execute_result"
    }
   ],
   "source": [
    "df.head(10)"
   ]
  },
  {
   "cell_type": "code",
   "execution_count": 4,
   "id": "830ebba6",
   "metadata": {},
   "outputs": [
    {
     "data": {
      "text/plain": [
       "(930808, 16)"
      ]
     },
     "execution_count": 4,
     "metadata": {},
     "output_type": "execute_result"
    }
   ],
   "source": [
    "df.shape"
   ]
  },
  {
   "cell_type": "code",
   "execution_count": 5,
   "id": "1cf59200",
   "metadata": {},
   "outputs": [
    {
     "data": {
      "text/plain": [
       "Index(['data_dte', 'Year', 'Month', 'usg_apt_id', 'usg_apt', 'usg_wac',\n",
       "       'fg_apt_id', 'fg_apt', 'fg_wac', 'airlineid', 'carrier', 'carriergroup',\n",
       "       'type', 'Scheduled', 'Charter', 'Total'],\n",
       "      dtype='object')"
      ]
     },
     "execution_count": 5,
     "metadata": {},
     "output_type": "execute_result"
    }
   ],
   "source": [
    "df.columns"
   ]
  },
  {
   "cell_type": "code",
   "execution_count": 6,
   "id": "521de1b7",
   "metadata": {},
   "outputs": [
    {
     "name": "stdout",
     "output_type": "stream",
     "text": [
      "<class 'pandas.core.frame.DataFrame'>\n",
      "RangeIndex: 930808 entries, 0 to 930807\n",
      "Data columns (total 16 columns):\n",
      " #   Column        Non-Null Count   Dtype \n",
      "---  ------        --------------   ----- \n",
      " 0   data_dte      930808 non-null  object\n",
      " 1   Year          930808 non-null  int64 \n",
      " 2   Month         930808 non-null  int64 \n",
      " 3   usg_apt_id    930808 non-null  int64 \n",
      " 4   usg_apt       930808 non-null  object\n",
      " 5   usg_wac       930808 non-null  int64 \n",
      " 6   fg_apt_id     930808 non-null  int64 \n",
      " 7   fg_apt        930808 non-null  object\n",
      " 8   fg_wac        930808 non-null  int64 \n",
      " 9   airlineid     930808 non-null  int64 \n",
      " 10  carrier       927753 non-null  object\n",
      " 11  carriergroup  930808 non-null  int64 \n",
      " 12  type          930808 non-null  object\n",
      " 13  Scheduled     930808 non-null  int64 \n",
      " 14  Charter       930808 non-null  int64 \n",
      " 15  Total         930808 non-null  int64 \n",
      "dtypes: int64(11), object(5)\n",
      "memory usage: 113.6+ MB\n"
     ]
    }
   ],
   "source": [
    "df.info()"
   ]
  },
  {
   "cell_type": "code",
   "execution_count": 7,
   "id": "00c120bd",
   "metadata": {},
   "outputs": [
    {
     "data": {
      "text/plain": [
       "0          True\n",
       "1          True\n",
       "2          True\n",
       "3          True\n",
       "4          True\n",
       "          ...  \n",
       "930803    False\n",
       "930804    False\n",
       "930805    False\n",
       "930806    False\n",
       "930807    False\n",
       "Length: 930808, dtype: bool"
      ]
     },
     "execution_count": 7,
     "metadata": {},
     "output_type": "execute_result"
    }
   ],
   "source": [
    "#check dublicated value\n",
    "df.duplicated('data_dte')\n",
    "df.duplicated('data_dte',keep='last')\n"
   ]
  },
  {
   "cell_type": "code",
   "execution_count": 8,
   "id": "bafcda8e",
   "metadata": {},
   "outputs": [
    {
     "data": {
      "text/plain": [
       "data_dte           0\n",
       "Year               0\n",
       "Month              0\n",
       "usg_apt_id         0\n",
       "usg_apt            0\n",
       "usg_wac            0\n",
       "fg_apt_id          0\n",
       "fg_apt             0\n",
       "fg_wac             0\n",
       "airlineid          0\n",
       "carrier         3055\n",
       "carriergroup       0\n",
       "type               0\n",
       "Scheduled          0\n",
       "Charter            0\n",
       "Total              0\n",
       "dtype: int64"
      ]
     },
     "execution_count": 8,
     "metadata": {},
     "output_type": "execute_result"
    }
   ],
   "source": [
    "#check Missing value\n",
    "df.isna().sum()"
   ]
  },
  {
   "cell_type": "code",
   "execution_count": 9,
   "id": "f28df836",
   "metadata": {},
   "outputs": [
    {
     "data": {
      "text/plain": [
       "0         PFQ\n",
       "1          5Y\n",
       "2          GL\n",
       "3         AMQ\n",
       "4          5L\n",
       "         ... \n",
       "930803     MQ\n",
       "930804     CM\n",
       "930805     MQ\n",
       "930806     AM\n",
       "930807     BW\n",
       "Name: carrier, Length: 930808, dtype: object"
      ]
     },
     "execution_count": 9,
     "metadata": {},
     "output_type": "execute_result"
    }
   ],
   "source": [
    "df['carrier']"
   ]
  },
  {
   "cell_type": "code",
   "execution_count": 10,
   "id": "cd066f2a",
   "metadata": {},
   "outputs": [
    {
     "data": {
      "text/plain": [
       "AA     58739\n",
       "DL     48520\n",
       "UA     42469\n",
       "CO     25754\n",
       "FX     21621\n",
       "       ...  \n",
       "WOA        1\n",
       "SKB        1\n",
       "PNA        1\n",
       "KO         1\n",
       "PU         1\n",
       "Name: carrier, Length: 734, dtype: int64"
      ]
     },
     "execution_count": 10,
     "metadata": {},
     "output_type": "execute_result"
    }
   ],
   "source": [
    "mostCommonCarier=df['carrier'].value_counts()\n",
    "mostCommonCarier"
   ]
  },
  {
   "cell_type": "code",
   "execution_count": 13,
   "id": "28c13520",
   "metadata": {},
   "outputs": [],
   "source": [
    "mostCommonCarier='AA'"
   ]
  },
  {
   "cell_type": "code",
   "execution_count": 14,
   "id": "c7b6a25a",
   "metadata": {},
   "outputs": [],
   "source": [
    "df['carrier'].fillna(mostCommonCarier, inplace=True)"
   ]
  },
  {
   "cell_type": "code",
   "execution_count": 15,
   "id": "1e5d5ab3",
   "metadata": {},
   "outputs": [
    {
     "data": {
      "text/plain": [
       "data_dte        0\n",
       "Year            0\n",
       "Month           0\n",
       "usg_apt_id      0\n",
       "usg_apt         0\n",
       "usg_wac         0\n",
       "fg_apt_id       0\n",
       "fg_apt          0\n",
       "fg_wac          0\n",
       "airlineid       0\n",
       "carrier         0\n",
       "carriergroup    0\n",
       "type            0\n",
       "Scheduled       0\n",
       "Charter         0\n",
       "Total           0\n",
       "dtype: int64"
      ]
     },
     "execution_count": 15,
     "metadata": {},
     "output_type": "execute_result"
    }
   ],
   "source": [
    "#check Missing value\n",
    "df.isna().sum()"
   ]
  },
  {
   "cell_type": "code",
   "execution_count": 16,
   "id": "5b812628",
   "metadata": {},
   "outputs": [],
   "source": [
    "df=df.drop('type',axis='columns')"
   ]
  },
  {
   "cell_type": "code",
   "execution_count": 17,
   "id": "808e27c8",
   "metadata": {},
   "outputs": [
    {
     "data": {
      "text/html": [
       "<div>\n",
       "<style scoped>\n",
       "    .dataframe tbody tr th:only-of-type {\n",
       "        vertical-align: middle;\n",
       "    }\n",
       "\n",
       "    .dataframe tbody tr th {\n",
       "        vertical-align: top;\n",
       "    }\n",
       "\n",
       "    .dataframe thead th {\n",
       "        text-align: right;\n",
       "    }\n",
       "</style>\n",
       "<table border=\"1\" class=\"dataframe\">\n",
       "  <thead>\n",
       "    <tr style=\"text-align: right;\">\n",
       "      <th></th>\n",
       "      <th>data_dte</th>\n",
       "      <th>Year</th>\n",
       "      <th>Month</th>\n",
       "      <th>usg_apt_id</th>\n",
       "      <th>usg_apt</th>\n",
       "      <th>usg_wac</th>\n",
       "      <th>fg_apt_id</th>\n",
       "      <th>fg_apt</th>\n",
       "      <th>fg_wac</th>\n",
       "      <th>airlineid</th>\n",
       "      <th>carrier</th>\n",
       "      <th>carriergroup</th>\n",
       "      <th>Scheduled</th>\n",
       "      <th>Charter</th>\n",
       "      <th>Total</th>\n",
       "    </tr>\n",
       "  </thead>\n",
       "  <tbody>\n",
       "    <tr>\n",
       "      <th>0</th>\n",
       "      <td>05/01/2006</td>\n",
       "      <td>2006</td>\n",
       "      <td>5</td>\n",
       "      <td>12016</td>\n",
       "      <td>GUM</td>\n",
       "      <td>5</td>\n",
       "      <td>13162</td>\n",
       "      <td>MAJ</td>\n",
       "      <td>844</td>\n",
       "      <td>20177</td>\n",
       "      <td>PFQ</td>\n",
       "      <td>1</td>\n",
       "      <td>0</td>\n",
       "      <td>10</td>\n",
       "      <td>10</td>\n",
       "    </tr>\n",
       "    <tr>\n",
       "      <th>1</th>\n",
       "      <td>05/01/2003</td>\n",
       "      <td>2003</td>\n",
       "      <td>5</td>\n",
       "      <td>10299</td>\n",
       "      <td>ANC</td>\n",
       "      <td>1</td>\n",
       "      <td>13856</td>\n",
       "      <td>OKO</td>\n",
       "      <td>736</td>\n",
       "      <td>20007</td>\n",
       "      <td>5Y</td>\n",
       "      <td>1</td>\n",
       "      <td>0</td>\n",
       "      <td>15</td>\n",
       "      <td>15</td>\n",
       "    </tr>\n",
       "    <tr>\n",
       "      <th>2</th>\n",
       "      <td>03/01/2007</td>\n",
       "      <td>2007</td>\n",
       "      <td>3</td>\n",
       "      <td>10721</td>\n",
       "      <td>BOS</td>\n",
       "      <td>13</td>\n",
       "      <td>12651</td>\n",
       "      <td>KEF</td>\n",
       "      <td>439</td>\n",
       "      <td>20402</td>\n",
       "      <td>GL</td>\n",
       "      <td>1</td>\n",
       "      <td>0</td>\n",
       "      <td>1</td>\n",
       "      <td>1</td>\n",
       "    </tr>\n",
       "    <tr>\n",
       "      <th>3</th>\n",
       "      <td>12/01/2004</td>\n",
       "      <td>2004</td>\n",
       "      <td>12</td>\n",
       "      <td>11259</td>\n",
       "      <td>DAL</td>\n",
       "      <td>74</td>\n",
       "      <td>16271</td>\n",
       "      <td>YYZ</td>\n",
       "      <td>936</td>\n",
       "      <td>20201</td>\n",
       "      <td>AMQ</td>\n",
       "      <td>1</td>\n",
       "      <td>0</td>\n",
       "      <td>1</td>\n",
       "      <td>1</td>\n",
       "    </tr>\n",
       "    <tr>\n",
       "      <th>4</th>\n",
       "      <td>05/01/2009</td>\n",
       "      <td>2009</td>\n",
       "      <td>5</td>\n",
       "      <td>13303</td>\n",
       "      <td>MIA</td>\n",
       "      <td>33</td>\n",
       "      <td>11075</td>\n",
       "      <td>CMW</td>\n",
       "      <td>219</td>\n",
       "      <td>21323</td>\n",
       "      <td>5L</td>\n",
       "      <td>0</td>\n",
       "      <td>0</td>\n",
       "      <td>20</td>\n",
       "      <td>20</td>\n",
       "    </tr>\n",
       "  </tbody>\n",
       "</table>\n",
       "</div>"
      ],
      "text/plain": [
       "     data_dte  Year  Month  usg_apt_id usg_apt  usg_wac  fg_apt_id fg_apt  \\\n",
       "0  05/01/2006  2006      5       12016     GUM        5      13162    MAJ   \n",
       "1  05/01/2003  2003      5       10299     ANC        1      13856    OKO   \n",
       "2  03/01/2007  2007      3       10721     BOS       13      12651    KEF   \n",
       "3  12/01/2004  2004     12       11259     DAL       74      16271    YYZ   \n",
       "4  05/01/2009  2009      5       13303     MIA       33      11075    CMW   \n",
       "\n",
       "   fg_wac  airlineid carrier  carriergroup  Scheduled  Charter  Total  \n",
       "0     844      20177     PFQ             1          0       10     10  \n",
       "1     736      20007      5Y             1          0       15     15  \n",
       "2     439      20402      GL             1          0        1      1  \n",
       "3     936      20201     AMQ             1          0        1      1  \n",
       "4     219      21323      5L             0          0       20     20  "
      ]
     },
     "execution_count": 17,
     "metadata": {},
     "output_type": "execute_result"
    }
   ],
   "source": [
    "df.head(5)"
   ]
  },
  {
   "cell_type": "code",
   "execution_count": 19,
   "id": "943ef8a6",
   "metadata": {},
   "outputs": [],
   "source": [
    "\n",
    "df= df.loc[df.Year > 2000]\n"
   ]
  },
  {
   "cell_type": "code",
   "execution_count": 20,
   "id": "2cebd1ca",
   "metadata": {},
   "outputs": [
    {
     "data": {
      "text/html": [
       "<div>\n",
       "<style scoped>\n",
       "    .dataframe tbody tr th:only-of-type {\n",
       "        vertical-align: middle;\n",
       "    }\n",
       "\n",
       "    .dataframe tbody tr th {\n",
       "        vertical-align: top;\n",
       "    }\n",
       "\n",
       "    .dataframe thead th {\n",
       "        text-align: right;\n",
       "    }\n",
       "</style>\n",
       "<table border=\"1\" class=\"dataframe\">\n",
       "  <thead>\n",
       "    <tr style=\"text-align: right;\">\n",
       "      <th></th>\n",
       "      <th>Year</th>\n",
       "      <th>Total</th>\n",
       "    </tr>\n",
       "  </thead>\n",
       "  <tbody>\n",
       "    <tr>\n",
       "      <th>0</th>\n",
       "      <td>2001</td>\n",
       "      <td>1192116</td>\n",
       "    </tr>\n",
       "    <tr>\n",
       "      <th>1</th>\n",
       "      <td>2002</td>\n",
       "      <td>1186081</td>\n",
       "    </tr>\n",
       "    <tr>\n",
       "      <th>2</th>\n",
       "      <td>2003</td>\n",
       "      <td>1316455</td>\n",
       "    </tr>\n",
       "    <tr>\n",
       "      <th>3</th>\n",
       "      <td>2004</td>\n",
       "      <td>1408786</td>\n",
       "    </tr>\n",
       "    <tr>\n",
       "      <th>4</th>\n",
       "      <td>2005</td>\n",
       "      <td>1453344</td>\n",
       "    </tr>\n",
       "    <tr>\n",
       "      <th>5</th>\n",
       "      <td>2006</td>\n",
       "      <td>1482477</td>\n",
       "    </tr>\n",
       "    <tr>\n",
       "      <th>6</th>\n",
       "      <td>2007</td>\n",
       "      <td>1518663</td>\n",
       "    </tr>\n",
       "    <tr>\n",
       "      <th>7</th>\n",
       "      <td>2008</td>\n",
       "      <td>1499268</td>\n",
       "    </tr>\n",
       "    <tr>\n",
       "      <th>8</th>\n",
       "      <td>2009</td>\n",
       "      <td>1399579</td>\n",
       "    </tr>\n",
       "    <tr>\n",
       "      <th>9</th>\n",
       "      <td>2010</td>\n",
       "      <td>1450964</td>\n",
       "    </tr>\n",
       "    <tr>\n",
       "      <th>10</th>\n",
       "      <td>2011</td>\n",
       "      <td>1476679</td>\n",
       "    </tr>\n",
       "    <tr>\n",
       "      <th>11</th>\n",
       "      <td>2012</td>\n",
       "      <td>1509105</td>\n",
       "    </tr>\n",
       "    <tr>\n",
       "      <th>12</th>\n",
       "      <td>2013</td>\n",
       "      <td>1532238</td>\n",
       "    </tr>\n",
       "    <tr>\n",
       "      <th>13</th>\n",
       "      <td>2014</td>\n",
       "      <td>1581395</td>\n",
       "    </tr>\n",
       "    <tr>\n",
       "      <th>14</th>\n",
       "      <td>2015</td>\n",
       "      <td>1626089</td>\n",
       "    </tr>\n",
       "    <tr>\n",
       "      <th>15</th>\n",
       "      <td>2016</td>\n",
       "      <td>1687607</td>\n",
       "    </tr>\n",
       "    <tr>\n",
       "      <th>16</th>\n",
       "      <td>2017</td>\n",
       "      <td>1735518</td>\n",
       "    </tr>\n",
       "    <tr>\n",
       "      <th>17</th>\n",
       "      <td>2018</td>\n",
       "      <td>1793447</td>\n",
       "    </tr>\n",
       "    <tr>\n",
       "      <th>18</th>\n",
       "      <td>2019</td>\n",
       "      <td>1808369</td>\n",
       "    </tr>\n",
       "    <tr>\n",
       "      <th>19</th>\n",
       "      <td>2020</td>\n",
       "      <td>369941</td>\n",
       "    </tr>\n",
       "  </tbody>\n",
       "</table>\n",
       "</div>"
      ],
      "text/plain": [
       "    Year    Total\n",
       "0   2001  1192116\n",
       "1   2002  1186081\n",
       "2   2003  1316455\n",
       "3   2004  1408786\n",
       "4   2005  1453344\n",
       "5   2006  1482477\n",
       "6   2007  1518663\n",
       "7   2008  1499268\n",
       "8   2009  1399579\n",
       "9   2010  1450964\n",
       "10  2011  1476679\n",
       "11  2012  1509105\n",
       "12  2013  1532238\n",
       "13  2014  1581395\n",
       "14  2015  1626089\n",
       "15  2016  1687607\n",
       "16  2017  1735518\n",
       "17  2018  1793447\n",
       "18  2019  1808369\n",
       "19  2020   369941"
      ]
     },
     "execution_count": 20,
     "metadata": {},
     "output_type": "execute_result"
    }
   ],
   "source": [
    "# Show total flights per year\n",
    "df1_year = df.groupby('Year')['Total'].sum()\n",
    "df1_year=pd.DataFrame(df1_year).reset_index()\n",
    "\n",
    "df1_year"
   ]
  },
  {
   "cell_type": "markdown",
   "id": "d4f3566e",
   "metadata": {},
   "source": [
    "# visualization "
   ]
  },
  {
   "cell_type": "code",
   "execution_count": 24,
   "id": "39522db1",
   "metadata": {},
   "outputs": [],
   "source": [
    "import seaborn as sns"
   ]
  },
  {
   "cell_type": "code",
   "execution_count": 22,
   "id": "42d05531",
   "metadata": {},
   "outputs": [
    {
     "data": {
      "image/png": "[encoded data removed]",
      "text/plain": [
       "<Figure size 1440x648 with 1 Axes>"
      ]
     },
     "metadata": {
      "needs_background": "light"
     },
     "output_type": "display_data"
    }
   ],
   "source": [
    "plt.figure(figsize=(20,9))\n",
    "plt.title(\"Total flights by Year\")\n",
    "sns.barplot(x='Year',y='Total',data=df1_year)\n",
    "plt.show()"
   ]
  },
  {
   "cell_type": "code",
   "execution_count": 36,
   "id": "9c1b6899",
   "metadata": {},
   "outputs": [
    {
     "data": {
      "image/png": "[encoded data removed]",
      "text/plain": [
       "<Figure size 720x432 with 1 Axes>"
      ]
     },
     "metadata": {
      "needs_background": "light"
     },
     "output_type": "display_data"
    }
   ],
   "source": [
    "plt.figure(figsize=(10,6))\n",
    "plt.title(\"Total by year\")\n",
    "plt.xlabel(\"Years\")\n",
    "plt.ylabel('total')\n",
    "plt.plot(df1_year['Year'],df1_year['Total'])\n",
    "\n",
    "plt.grid(True)\n",
    "plt.show()\n"
   ]
  },
  {
   "cell_type": "code",
   "execution_count": null,
   "id": "21cd1b3f",
   "metadata": {},
   "outputs": [],
   "source": []
  }
 ],
 "metadata": {
  "kernelspec": {
   "display_name": "Python 3 (ipykernel)",
   "language": "python",
   "name": "python3"
  },
  "language_info": {
   "codemirror_mode": {
    "name": "ipython",
    "version": 3
   },
   "file_extension": ".py",
   "mimetype": "text/x-python",
   "name": "python",
   "nbconvert_exporter": "python",
   "pygments_lexer": "ipython3",
   "version": "3.8.13"
  }
 },
 "nbformat": 4,
 "nbformat_minor": 5
}
